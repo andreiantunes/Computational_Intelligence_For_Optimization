{
 "cells": [
  {
   "cell_type": "markdown",
   "metadata": {},
   "source": [
    "Group: \n",
    "- Andreia Antunes (M20190876)\n",
    "- Fernanda Zippinotti (M20190232)\n",
    "- Lara Neves (M20190867)\n",
    "- Rennan Araújo (M20190146)\n",
    "- Wenyi Liang (M20190551)\n"
   ]
  },
  {
   "cell_type": "markdown",
   "metadata": {},
   "source": [
    "# Hill Climbing Algorithm \n",
    "\n",
    "### Mastermind game\n",
    "\n",
    "This game is played by two people. The first is called the codemaker which will chose a 4 colored code out of 6 different colored pegs. The second players has to discover this code with n amount of tries. \n",
    "\n",
    "In each try, the second player makes an attempt at getting the right code. The codemaker has to give feedback on the fitness of the solution, with a fitness function which will give:\n",
    "\n",
    "    90: if a given peg has the correct colour and is in the right position.\n",
    "    10: if a given peg has the correct colour.\n",
    "    0: if none of the above \n",
    "\n",
    "Meaning that the best solution is found by maximizing the fitness function, which is fitness = 400."
   ]
  },
  {
   "cell_type": "markdown",
   "metadata": {},
   "source": [
    "#### 1. Defining the decision variables:\n",
    "\n",
    "They will be the six colors of the pegs which we will be represented by the numbers 1 until 6.\n",
    "\n"
   ]
  },
  {
   "cell_type": "code",
   "execution_count": 1,
   "metadata": {},
   "outputs": [],
   "source": [
    "#Import Librarys\n",
    "from random import randint\n",
    "\n",
    "\n",
    "#Encrypt the colors into 2 lists of colors and numbers\n",
    "def encrypt_decision_variables(decision_variables):\n",
    "    encrypted = {'Colors':[], 'Numbers':[]}\n",
    "    v = 0\n",
    "    for i in decision_variables:\n",
    "        encrypted['Colors'].append(i)\n",
    "        encrypted['Numbers'].append(v)\n",
    "        v += 1\n",
    "    return encrypted\n",
    "\n",
    "#Return the colors for the given numbers\n",
    "def decrypt_into_colors(list, encrypted_decision_variables):\n",
    "    decrypted = []\n",
    "    #find the color by the number on code\n",
    "    counter = 0\n",
    "    for i in list:\n",
    "        for k,v in encrypted_decision_variables.items():\n",
    "            if k == 'Numbers':\n",
    "                for item in v:\n",
    "                        if item == i:\n",
    "                            decrypted.append(encrypted_decision_variables['Colors'][item])\n",
    "    return decrypted\n"
   ]
  },
  {
   "cell_type": "markdown",
   "metadata": {},
   "source": [
    "#### 2. Solution Encoding \n",
    "\n",
    "The solution will be defined as a 1x4 vector in which the elements are the numbers 1 to 6 corresponding to the colours, and the positions of these elements in the vector correspond to the positions in the holes: \n"
   ]
  },
  {
   "cell_type": "code",
   "execution_count": 2,
   "metadata": {},
   "outputs": [],
   "source": [
    "#Check if the encoding is able to use blank spaces or not\n",
    "def  get_encoding(decision_variables):\n",
    "    encoding = [0,len(decision_variables)-1]\n",
    "    return encoding\n"
   ]
  },
  {
   "cell_type": "markdown",
   "metadata": {},
   "source": [
    "#### 3. Build solution function\n"
   ]
  },
  {
   "cell_type": "code",
   "execution_count": 3,
   "metadata": {},
   "outputs": [],
   "source": [
    "#function for random the code blank spaces and repeat colors are false by default.\n",
    "def build_solution(encoding,repeat_colors, decision_variables={}):\n",
    "    code=[]\n",
    "\n",
    "    #Random 4 colors. Not allowed to repeat colors.\n",
    "    if repeat_colors == False:\n",
    "        while len(code) < 4:\n",
    "            rint = randint(0,len(decision_variables['Numbers'])-1)\n",
    "            if decision_variables['Numbers'][rint] not in code and len(code) < 4:\n",
    "                if is_admissible(decision_variables['Numbers'][rint], encoding):\n",
    "                    code.append(decision_variables['Numbers'][rint])\n",
    "                else:\n",
    "                    raise SystemError(\"Wrong Search Space !\")\n",
    "\n",
    "    #Random 4 colors. Allowed to repeat  colors.\n",
    "    elif repeat_colors == True:\n",
    "        while len(code) < 4:\n",
    "            rint = randint(0,len(decision_variables['Numbers'])-1)\n",
    "            if len(code) < 4:\n",
    "                if is_admissible(decision_variables['Numbers'][rint], encoding):\n",
    "                    code.append(decision_variables['Numbers'][rint])\n",
    "                else:\n",
    "                    raise SystemError(\"Wrong Search Space !\")\n",
    "\n",
    "\n",
    "    return code"
   ]
  },
  {
   "cell_type": "markdown",
   "metadata": {},
   "source": [
    "#### 4. Objective function\n",
    "  Determine the fitness function"
   ]
  },
  {
   "cell_type": "code",
   "execution_count": 4,
   "metadata": {},
   "outputs": [],
   "source": [
    "#function for returning the fitness of the solution\n",
    "#Max Score: 400 points\n",
    "#Right Color in the Right place: 90 poins\n",
    "#Right Color in the wrong place: 10 points\n",
    "def objective_function(code, solution):\n",
    "    fitness = 0\n",
    "    used_numbers = []\n",
    "\n",
    "    #add 10 fitness for each count of the number in solution\n",
    "    for i in range(0,len(solution)):\n",
    "        if solution[i] not in used_numbers:\n",
    "            count_solution_in_code = code.count(solution[i])\n",
    "            count_solution_in_solution = solution.count(solution[i])\n",
    "            if count_solution_in_code == solution.count(solution[i]):\n",
    "                fitness += count_solution_in_code * 10\n",
    "            else:\n",
    "                if min([count_solution_in_code, count_solution_in_solution ]) == 0:\n",
    "                    used_numbers.append(solution[i])\n",
    "                    continue\n",
    "                else:\n",
    "                    fitness = min([count_solution_in_code, count_solution_in_solution ]) * 10\n",
    "                    used_numbers.append(solution[i])\n",
    "\n",
    "    #add 90 fitness if the solution is in the right place\n",
    "    for i in range(0,len(solution)):\n",
    "        if solution[i] == code[i]:\n",
    "                fitness += 90\n",
    "\n",
    "    return fitness\n"
   ]
  },
  {
   "cell_type": "markdown",
   "metadata": {},
   "source": [
    "#### 5. Constraints"
   ]
  },
  {
   "cell_type": "markdown",
   "metadata": {},
   "source": [
    "#### 6. Solution admissibility function"
   ]
  },
  {
   "cell_type": "code",
   "execution_count": 5,
   "metadata": {},
   "outputs": [],
   "source": [
    "#function for checking if the solution is inside the search space\n",
    "def is_admissible(solution, encoding):\n",
    "    min = encoding[0]\n",
    "    max = encoding[-1]\n",
    "    return (solution >= min and solution <= max)\n"
   ]
  },
  {
   "cell_type": "markdown",
   "metadata": {},
   "source": [
    "#### 7. Neighborhood function\n",
    "\n"
   ]
  },
  {
   "cell_type": "code",
   "execution_count": 6,
   "metadata": {},
   "outputs": [],
   "source": [
    "#get the 4 neighbours\n",
    "def get_Neighbours(solution, encoding):\n",
    "    new_neighbours = []\n",
    "\n",
    "    for i in range(0, len(solution)):\n",
    "        new_solution = []\n",
    "        for x in solution:\n",
    "            new_solution.append(x)\n",
    "        nr = randint(encoding[0], encoding[-1])\n",
    "        new_solution[i] = nr\n",
    "        new_neighbours.append(new_solution)\n",
    "    return new_neighbours"
   ]
  },
  {
   "cell_type": "markdown",
   "metadata": {},
   "source": [
    "#### 8. Implement algorithm"
   ]
  },
  {
   "cell_type": "code",
   "execution_count": 7,
   "metadata": {},
   "outputs": [],
   "source": [
    "#Hill climbing Algorithm\n",
    "def hill_climbing(decision_variables,iterations, repeat_colors=False, blank_spaces=False):\n",
    "    best_fitness = 0\n",
    "    best_solution = []\n",
    "    first_solution = []\n",
    "    first_fitness = []\n",
    "    list_of_solutions = []\n",
    "\n",
    "\n",
    "    if blank_spaces==True:\n",
    "        decision_variables += ['Blank Space']\n",
    "\n",
    "    #here we can't define a fixed encoding, becouse the number of colors can change, so i made a function for getting it\n",
    "    #depending on the numbers of colors entered\n",
    "    encoding = get_encoding(decision_variables)\n",
    "\n",
    "    #transform the list of colors into a dict with 2 dics, 1 is the colors and other is the reference number of the color\n",
    "    encrypted_decision_variables = encrypt_decision_variables(decision_variables)\n",
    "\n",
    "    #code to be detected\n",
    "    code = build_solution(encoding,repeat_colors=repeat_colors,\n",
    "    decision_variables=encrypted_decision_variables)\n",
    "\n",
    "    #first random solution and the fitness\n",
    "    first_solution = build_solution(encoding,repeat_colors=repeat_colors,\n",
    "    decision_variables=encrypted_decision_variables)\n",
    "    list_of_solutions.append(first_solution)\n",
    "    first_fitness = objective_function(code, first_solution)\n",
    "    best_fitness = first_fitness\n",
    "    best_solution = first_solution\n",
    "\n",
    "\n",
    "    for i in range(0, iterations):\n",
    "        neighbours = []\n",
    "        neighbours_fitness = []\n",
    "        exploited_neighbours = []\n",
    "        exploited_neighbours_fitness = []\n",
    "        best_neighbours = []\n",
    "        best_neighbours_fitness = []\n",
    "        better_neighbours = []\n",
    "        better_neighbours_fitness = 0\n",
    "        better_neig_solution = []\n",
    "\n",
    "        #populate neightbours of the first solution\n",
    "        neighbours = get_Neighbours(best_solution, encoding)\n",
    "\n",
    "        #populate neightbours fitness\n",
    "        for neighbour in neighbours:\n",
    "            neighbours_fitness.append(objective_function(code, neighbour))\n",
    "\n",
    "        #check if the solution was already used and\n",
    "        #test which neighbour has the best fitness\n",
    "        for solution in neighbours:\n",
    "            if solution in list_of_solutions:\n",
    "                continue\n",
    "            if objective_function(code,solution)>=better_neighbours_fitness:\n",
    "                better_neighbours_fitness = objective_function(code, solution)\n",
    "                better_neig_solution = solution\n",
    "\n",
    "        #put on global var (memory) the best result found in this iteration\n",
    "        if better_neighbours_fitness >= best_fitness:\n",
    "            best_solution = better_neig_solution\n",
    "            best_fitness = better_neighbours_fitness\n",
    "            list_of_solutions.append(best_solution)\n",
    "\n",
    "\n",
    "\n",
    "    print('Code:',decrypt_into_colors(code, encrypted_decision_variables))\n",
    "    print('First Solution:',decrypt_into_colors(first_solution, encrypted_decision_variables))\n",
    "\n",
    "    print(decrypt_into_colors(first_solution, encrypted_decision_variables),\n",
    "    \"was the first solution random selected and its fitness was\", first_fitness)\n",
    "    print(decrypt_into_colors(best_solution, encrypted_decision_variables), \"is the Solution and its fitness is\",\n",
    "    best_fitness)\n",
    "    print(\"\\n\",\"The folowing solutions were found before breaking the code:\")\n",
    "\n",
    "    for i in range(0,len(list_of_solutions)):\n",
    "        x = i +1\n",
    "        print(str(x)+ \"º\", \"solution was:\", decrypt_into_colors(list_of_solutions[i], encrypted_decision_variables))\n"
   ]
  },
  {
   "cell_type": "markdown",
   "metadata": {},
   "source": [
    "You can choose as many colors as you want, more colors make it harder for the algorithm to solve the problem.\n",
    "Just add more colors to the list and try it:"
   ]
  },
  {
   "cell_type": "code",
   "execution_count": 8,
   "metadata": {},
   "outputs": [],
   "source": [
    "decision_variables = ['Red', 'Green', 'Dark Blue', 'Yellow', 'Brown', 'Orange','Purple']"
   ]
  },
  {
   "cell_type": "markdown",
   "metadata": {},
   "source": [
    "The *hill_climbing* function has 4 parameters:\n",
    "\n",
    "- First is the list of colors.\n",
    "- Second is the number of iterations.\n",
    "- Third, to accept duplicating colors, write *repeat_colors=TRUE*. \n",
    "- Fourth, to accept blank spaces then write *blank_spaces=TRUE*"
   ]
  },
  {
   "cell_type": "code",
   "execution_count": 15,
   "metadata": {},
   "outputs": [
    {
     "name": "stdout",
     "output_type": "stream",
     "text": [
      "Code: ['Orange', 'Dark Blue', 'Red', 'Green']\n",
      "First Solution: ['Red', 'Purple', 'Dark Blue', 'Green']\n",
      "['Red', 'Purple', 'Dark Blue', 'Green'] was the first solution random selected and its fitness was 120\n",
      "['Orange', 'Dark Blue', 'Red', 'Green'] is the Solution and its fitness is 400\n",
      "\n",
      " The folowing solutions were found before breaking the code:\n",
      "1º solution was: ['Red', 'Purple', 'Dark Blue', 'Green']\n",
      "2º solution was: ['Red', 'Brown', 'Dark Blue', 'Green']\n",
      "3º solution was: ['Red', 'Brown', 'Red', 'Green']\n",
      "4º solution was: ['Red', 'Purple', 'Red', 'Green']\n",
      "5º solution was: ['Yellow', 'Purple', 'Red', 'Green']\n",
      "6º solution was: ['Orange', 'Purple', 'Red', 'Green']\n",
      "7º solution was: ['Orange', 'Orange', 'Red', 'Green']\n",
      "8º solution was: ['Orange', 'Dark Blue', 'Red', 'Green']\n"
     ]
    }
   ],
   "source": [
    "hill_climbing(decision_variables,10, repeat_colors=False,blank_spaces=False)"
   ]
  },
  {
   "cell_type": "code",
   "execution_count": null,
   "metadata": {},
   "outputs": [],
   "source": []
  },
  {
   "cell_type": "code",
   "execution_count": null,
   "metadata": {},
   "outputs": [],
   "source": []
  },
  {
   "cell_type": "code",
   "execution_count": null,
   "metadata": {},
   "outputs": [],
   "source": []
  },
  {
   "cell_type": "code",
   "execution_count": null,
   "metadata": {},
   "outputs": [],
   "source": []
  }
 ],
 "metadata": {
  "kernelspec": {
   "display_name": "Python 3",
   "language": "python",
   "name": "python3"
  },
  "language_info": {
   "codemirror_mode": {
    "name": "ipython",
    "version": 3
   },
   "file_extension": ".py",
   "mimetype": "text/x-python",
   "name": "python",
   "nbconvert_exporter": "python",
   "pygments_lexer": "ipython3",
   "version": "3.7.3"
  }
 },
 "nbformat": 4,
 "nbformat_minor": 2
}
